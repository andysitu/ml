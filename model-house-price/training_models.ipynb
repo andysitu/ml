{
 "cells": [
  {
   "cell_type": "code",
   "execution_count": 18,
   "id": "collaborative-mitchell",
   "metadata": {},
   "outputs": [],
   "source": [
    "import numpy\n",
    "x = 2 * numpy.random.rand(100, 1) # 100 x 1 matrix\n",
    "y = 4 + 3 * x + numpy.random.randn(100, 1)"
   ]
  },
  {
   "cell_type": "code",
   "execution_count": 38,
   "id": "framed-ecuador",
   "metadata": {},
   "outputs": [
    {
     "data": {
      "image/png": "[encoded data removed]",
      "text/plain": [
       "<Figure size 432x288 with 1 Axes>"
      ]
     },
     "metadata": {
      "needs_background": "light"
     },
     "output_type": "display_data"
    }
   ],
   "source": [
    "import matplotlib.pyplot as plt\n",
    "\n",
    "plt.plot(x, y, \"b.\")\n",
    "plt.show()"
   ]
  },
  {
   "cell_type": "code",
   "execution_count": 19,
   "id": "dynamic-benjamin",
   "metadata": {},
   "outputs": [],
   "source": [
    "# 100x1 matrix of 1 with 100x1 matrix of x\n",
    "# (since theta 0 is 1)\n",
    "x_b = numpy.c_[numpy.ones((100, 1)), x]\n",
    "# np.linalg -  linear algebra module to use inverse\n",
    "# dot for matrix multiplication\n",
    "theta_best = numpy.linalg.inv(x_b.T.dot(x_b)).dot(x_b.T).dot(y)"
   ]
  },
  {
   "cell_type": "code",
   "execution_count": 21,
   "id": "olympic-whale",
   "metadata": {},
   "outputs": [
    {
     "data": {
      "text/plain": [
       "array([[4.23612849],\n",
       "       [2.74505024]])"
      ]
     },
     "execution_count": 21,
     "metadata": {},
     "output_type": "execute_result"
    }
   ],
   "source": [
    "# linear regression result using Normal Equation\n",
    "# dervied & solved from MSE\n",
    "# theta 0 & theta 1\n",
    "theta_best"
   ]
  },
  {
   "cell_type": "code",
   "execution_count": 30,
   "id": "modified-genius",
   "metadata": {},
   "outputs": [
    {
     "data": {
      "text/plain": [
       "array([[4.23612849],\n",
       "       [9.72622896]])"
      ]
     },
     "execution_count": 30,
     "metadata": {},
     "output_type": "execute_result"
    }
   ],
   "source": [
    "# guess when x = 0 & x = 2\n",
    "x_new = numpy.array([[0], [2]])\n",
    "x_new_b = numpy.c_[numpy.ones((2,1)), x_new] # [[1, 0], [1, 2]]\n",
    "y_predict = x_new_b.dot(theta_best)\n",
    "y_predict"
   ]
  },
  {
   "cell_type": "code",
   "execution_count": 45,
   "id": "cardiac-surgeon",
   "metadata": {
    "scrolled": true
   },
   "outputs": [
    {
     "data": {
      "image/png": "[encoded data removed]",
      "text/plain": [
       "<Figure size 432x288 with 1 Axes>"
      ]
     },
     "metadata": {
      "needs_background": "light"
     },
     "output_type": "display_data"
    }
   ],
   "source": [
    "plt.plot(x_new, y_predict, \"r-\") # red line\n",
    "plt.plot(x, y, \"b.\") # black dot\n",
    "plt.axis([0, 2, 0, 15])\n",
    "plt.show()"
   ]
  },
  {
   "cell_type": "code",
   "execution_count": 48,
   "id": "accurate-bidding",
   "metadata": {
    "scrolled": true
   },
   "outputs": [
    {
     "name": "stdout",
     "output_type": "stream",
     "text": [
      "[4.23612849] [[2.74505024]]\n"
     ]
    },
    {
     "data": {
      "text/plain": [
       "array([[4.23612849],\n",
       "       [9.72622896]])"
      ]
     },
     "execution_count": 48,
     "metadata": {},
     "output_type": "execute_result"
    }
   ],
   "source": [
    "# linear reg using sklearn\n",
    "from sklearn.linear_model import LinearRegression\n",
    "lin_reg = LinearRegression()\n",
    "lin_reg.fit(x, y)\n",
    "print(lin_reg.intercept_, lin_reg.coef_)\n",
    "lin_reg.predict(x_new)"
   ]
  },
  {
   "cell_type": "code",
   "execution_count": 50,
   "id": "eight-notification",
   "metadata": {
    "scrolled": true
   },
   "outputs": [
    {
     "data": {
      "text/plain": [
       "array([[4.23612849],\n",
       "       [2.74505024]])"
      ]
     },
     "execution_count": 50,
     "metadata": {},
     "output_type": "execute_result"
    }
   ],
   "source": [
    "# linearRegression is based lstsq (least squares)\n",
    "theta_best_svd, residuals, rank, s = numpy.linalg.lstsq(x_b, y, rcond=1e-6)\n",
    "theta_best_svd"
   ]
  },
  {
   "cell_type": "code",
   "execution_count": 52,
   "id": "closing-fetish",
   "metadata": {
    "scrolled": true
   },
   "outputs": [
    {
     "data": {
      "text/plain": [
       "array([[4.23612849],\n",
       "       [2.74505024]])"
      ]
     },
     "execution_count": 52,
     "metadata": {},
     "output_type": "execute_result"
    }
   ],
   "source": [
    "# Can use pinv (pseudoinverse of X) to calculate directly\n",
    "numpy.linalg.pinv(x_b).dot(y)\n",
    "\n",
    "# uses standard matrix factorization technique called SVD (singular value decomp)\n",
    "# LinearRegression -> n^2 using SVD"
   ]
  },
  {
   "cell_type": "code",
   "execution_count": 54,
   "id": "anonymous-adams",
   "metadata": {},
   "outputs": [],
   "source": [
    "# batch gradient descent algorithm\n",
    "eta = 0.1 # learning rate\n",
    "n_iterations = 1000\n",
    "m = 100\n",
    "\n",
    "theta = numpy.random.randn(2, 1) # 2x1\n",
    "for iteration in range(n_iterations):\n",
    "    gradients = 2/m * x_b.T.dot(x_b.dot(theta) - y)\n",
    "    theta = theta - eta * gradients"
   ]
  },
  {
   "cell_type": "code",
   "execution_count": 55,
   "id": "cutting-amber",
   "metadata": {},
   "outputs": [
    {
     "data": {
      "text/plain": [
       "array([[4.23612849],\n",
       "       [2.74505024]])"
      ]
     },
     "execution_count": 55,
     "metadata": {},
     "output_type": "execute_result"
    }
   ],
   "source": [
    "theta"
   ]
  },
  {
   "cell_type": "code",
   "execution_count": 69,
   "id": "surgical-quality",
   "metadata": {},
   "outputs": [],
   "source": [
    "# stoichastic gradient descent\n",
    "# epoch  named by convention: # of rounds\n",
    "n_epochs = 50\n",
    "t0, t1 = 5, 50 # learning schedule hyperparameters\n",
    "\n",
    "def learning_schedule(t):\n",
    "    return t0 / (t+t1)\n",
    "\n",
    "theta = numpy.random.randn(2,1) # random initialization\n",
    "\n",
    "#NOTE: x is 2x1 matrix : [1, xi] - for y = theta(0) + theta(1) x(1)\n",
    "\n",
    "for epoch in range(n_epochs):\n",
    "    for i in range(m):\n",
    "        random_index = numpy.random.randint(m)\n",
    "        xi = x_b[random_index: random_index+1]\n",
    "        yi = y[random_index: random_index+1]\n",
    "        # same as prev eq, but 1/m is in eta variable\n",
    "        gradients = 2 * xi.T.dot(xi.dot(theta) - yi)\n",
    "        eta = learning_schedule(epoch * m * i)\n",
    "        theta = theta - eta * gradients"
   ]
  },
  {
   "cell_type": "code",
   "execution_count": 70,
   "id": "collect-dubai",
   "metadata": {
    "scrolled": true
   },
   "outputs": [
    {
     "data": {
      "text/plain": [
       "array([[3.96595023],\n",
       "       [2.89373841]])"
      ]
     },
     "execution_count": 70,
     "metadata": {},
     "output_type": "execute_result"
    }
   ],
   "source": [
    "theta"
   ]
  },
  {
   "cell_type": "code",
   "execution_count": 75,
   "id": "floppy-screw",
   "metadata": {},
   "outputs": [
    {
     "data": {
      "text/plain": [
       "(array([4.26894853]), array([2.83642115]))"
      ]
     },
     "execution_count": 75,
     "metadata": {},
     "output_type": "execute_result"
    }
   ],
   "source": [
    "# Use Stoichastic GD SDGRegressor\n",
    "# 1000 epochs or until loss drops by less than 0.001 in an epoch\n",
    "# eta0 : starting learning rate\n",
    "# no regularization (penalty=None)\n",
    "from sklearn.linear_model import SGDRegressor\n",
    "sgd_reg = SGDRegressor(max_iter=1000, tol=1e-3, penalty=None, eta0=0.1)\n",
    "sgd_reg.fit(x, y.ravel())\n",
    "\n",
    "sgd_reg.intercept_, sgd_reg.coef_"
   ]
  },
  {
   "cell_type": "code",
   "execution_count": 82,
   "id": "frozen-watershed",
   "metadata": {
    "scrolled": false
   },
   "outputs": [],
   "source": [
    "# Polynomial Regression\n",
    "\n",
    "# generate random variables\n",
    "m = 100\n",
    "x = 6 * numpy.random.rand(m, 1) - 3\n",
    "y = 0.5 * x**2 + x + 2 + numpy.random.randn(m, 1)"
   ]
  },
  {
   "cell_type": "code",
   "execution_count": 81,
   "id": "tired-mainland",
   "metadata": {},
   "outputs": [
    {
     "data": {
      "image/png": "[encoded data removed]",
      "text/plain": [
       "<Figure size 432x288 with 1 Axes>"
      ]
     },
     "metadata": {
      "needs_background": "light"
     },
     "output_type": "display_data"
    }
   ],
   "source": [
    "plt.plot(x, y, \"b.\") # black dot\n",
    "plt.show()"
   ]
  },
  {
   "cell_type": "code",
   "execution_count": 88,
   "id": "compliant-twelve",
   "metadata": {},
   "outputs": [
    {
     "name": "stdout",
     "output_type": "stream",
     "text": [
      "[-2.74552423]\n",
      "[-2.74552423  7.53790329]\n"
     ]
    }
   ],
   "source": [
    "# Use PolynomialFeatures to transform training data\n",
    "# adds square (2nd deg pol) to each feature\n",
    "from sklearn.preprocessing import PolynomialFeatures\n",
    "poly_features = PolynomialFeatures(degree=2, include_bias=False)\n",
    "x_poly = poly_features.fit_transform(x)\n",
    "print(x[0])\n",
    "print(x_poly[0])"
   ]
  },
  {
   "cell_type": "code",
   "execution_count": 89,
   "id": "severe-auction",
   "metadata": {},
   "outputs": [
    {
     "data": {
      "text/plain": [
       "(array([1.88245321]), array([[0.89708445, 0.57885811]]))"
      ]
     },
     "execution_count": 89,
     "metadata": {},
     "output_type": "execute_result"
    }
   ],
   "source": [
    "lin_reg = LinearRegression()\n",
    "lin_reg.fit(x_poly, y)\n",
    "lin_reg.intercept_, lin_reg.coef_"
   ]
  },
  {
   "cell_type": "code",
   "execution_count": 94,
   "id": "imported-portland",
   "metadata": {},
   "outputs": [
    {
     "data": {
      "image/png": "[encoded data removed]",
      "text/plain": [
       "<Figure size 432x288 with 1 Axes>"
      ]
     },
     "metadata": {
      "needs_background": "light"
     },
     "output_type": "display_data"
    }
   ],
   "source": [
    "\n",
    "X_new=numpy.linspace(-3, 3, 100).reshape(100, 1)\n",
    "X_new_poly = poly_features.transform(X_new)\n",
    "y_new = lin_reg.predict(X_new_poly)\n",
    "plt.plot(x, y, \"b.\")\n",
    "plt.plot(X_new, y_new, \"r-\", linewidth=2, label=\"Predictions\")\n",
    "plt.xlabel(\"$x_1$\", fontsize=18)\n",
    "plt.ylabel(\"$y$\", rotation=0, fontsize=18)\n",
    "plt.legend(loc=\"upper left\", fontsize=14)\n",
    "plt.axis([-3, 3, 0, 10])\n",
    "plt.show()"
   ]
  }
 ],
 "metadata": {
  "kernelspec": {
   "display_name": "Python 3",
   "language": "python",
   "name": "python3"
  },
  "language_info": {
   "codemirror_mode": {
    "name": "ipython",
    "version": 3
   },
   "file_extension": ".py",
   "mimetype": "text/x-python",
   "name": "python",
   "nbconvert_exporter": "python",
   "pygments_lexer": "ipython3",
   "version": "3.9.1"
  }
 },
 "nbformat": 4,
 "nbformat_minor": 5
}
